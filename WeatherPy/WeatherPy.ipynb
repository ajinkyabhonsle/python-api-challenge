{
 "cells": [
  {
   "cell_type": "markdown",
   "metadata": {},
   "source": [
    "# WeatherPy\n",
    "----\n",
    "\n",
    "#### Note\n",
    "* Instructions have been included for each segment. You do not have to follow them exactly, but they are included to help you think through the steps."
   ]
  },
  {
   "cell_type": "code",
   "execution_count": null,
   "metadata": {
    "scrolled": true
   },
   "outputs": [],
   "source": [
    "# Dependencies and Setup\n",
    "\n",
    "import matplotlib.pyplot as plt\n",
    "import pandas as pd\n",
    "import numpy as np\n",
    "import requests\n",
    "import time\n",
    "# import api_keys\n",
    "from scipy.stats import linregress\n",
    "\n",
    "# Import API key\n",
    "from api_keys import weather_api_key\n",
    "\n",
    "# Incorporated citipy to determine city based on latitude and longitude\n",
    "from citipy import citipy\n",
    "\n",
    "# Output File (CSV)\n",
    "output_data_file = \"output_data/cities.csv\"\n",
    "\n",
    "# Range of latitudes and longitudes\n",
    "lat_range = (-90, 90)\n",
    "lng_range = (-180, 180)"
   ]
  },
  {
   "cell_type": "markdown",
   "metadata": {},
   "source": [
    "## Generate Cities List"
   ]
  },
  {
   "cell_type": "code",
   "execution_count": 5,
   "metadata": {},
   "outputs": [
    {
     "data": {
      "text/plain": [
       "610"
      ]
     },
     "execution_count": 5,
     "metadata": {},
     "output_type": "execute_result"
    }
   ],
   "source": [
    "# List for holding lat_lngs and cities\n",
    "lat_lngs = []\n",
    "cities = []\n",
    "\n",
    "# Create a set of random lat and lng combinations\n",
    "lats = np.random.uniform(lat_range[0], lat_range[1], size=1500)\n",
    "lngs = np.random.uniform(lng_range[0], lng_range[1], size=1500)\n",
    "lat_lngs = zip(lats, lngs)\n",
    "\n",
    "# Identify nearest city for each lat, lng combination\n",
    "for lat_lng in lat_lngs:\n",
    "    city = citipy.nearest_city(lat_lng[0], lat_lng[1]).city_name\n",
    "    \n",
    "    # If the city is unique, then add it to a our cities list\n",
    "    if city not in cities:\n",
    "        cities.append(city)\n",
    "\n",
    "# Print the city count to confirm sufficient count\n",
    "len(cities)"
   ]
  },
  {
   "cell_type": "markdown",
   "metadata": {},
   "source": [
    "### Perform API Calls\n",
    "* Perform a weather check on each city using a series of successive API calls.\n",
    "* Include a print log of each city as it'sbeing processed (with the city number and city name).\n"
   ]
  },
  {
   "cell_type": "code",
   "execution_count": 10,
   "metadata": {
    "scrolled": true
   },
   "outputs": [
    {
     "name": "stdout",
     "output_type": "stream",
     "text": [
      "<------Beginning Data Retrieval Process------->\n",
      "Processing City: ugoofaaru\n",
      "Processing City: bathsheba\n",
      "Processing City: punta arenas\n",
      "Processing City: naryan-mar\n",
      "Processing City: cape town\n",
      "Processing City: hobyo\n",
      "Processing City: hilo\n",
      "Processing City: mataura\n",
      "Processing City: tura\n",
      "Processing City: flin flon\n",
      "City not found. Skipping\n",
      "Processing City: nikolskoye\n",
      "Processing City: martinez\n",
      "Processing City: chuy\n",
      "Processing City: busselton\n",
      "Processing City: nantucket\n",
      "Processing City: nuevo progreso\n",
      "Processing City: jamestown\n",
      "Processing City: derzhavinsk\n",
      "Processing City: carnarvon\n",
      "Processing City: atuona\n",
      "Processing City: pacasmayo\n",
      "City not found. Skipping\n",
      "Processing City: luderitz\n",
      "Processing City: linxia\n",
      "Processing City: hofn\n",
      "Processing City: puerto ayora\n",
      "Processing City: mar del plata\n",
      "Processing City: chicla\n",
      "Processing City: cherskiy\n",
      "Processing City: bluff\n",
      "City not found. Skipping\n",
      "Processing City: paracuru\n",
      "Processing City: rikitea\n",
      "Processing City: vaini\n",
      "Processing City: nhulunbuy\n",
      "Processing City: hobart\n",
      "Processing City: kapaa\n",
      "Processing City: saskylakh\n",
      "Processing City: kodiak\n",
      "Processing City: rio gallegos\n",
      "Processing City: pacific grove\n",
      "Processing City: mahon\n",
      "Processing City: puerto escondido\n",
      "Processing City: constitucion\n",
      "Processing City: saint george\n",
      "Processing City: khatanga\n",
      "Processing City: abaete\n",
      "City not found. Skipping\n",
      "Processing City: goderich\n",
      "Processing City: katsuura\n",
      "Processing City: westport\n",
      "Processing City: darhan\n",
      "Processing City: byron bay\n",
      "Processing City: baherden\n",
      "Processing City: silale\n",
      "Processing City: port alfred\n",
      "Processing City: namibe\n",
      "Processing City: khani\n",
      "Processing City: provideniya\n",
      "Processing City: oranjemund\n",
      "Processing City: tinskoy\n",
      "City not found. Skipping\n",
      "Processing City: kennett\n",
      "Processing City: kruisfontein\n",
      "Processing City: cayenne\n",
      "Processing City: ushuaia\n",
      "Processing City: saint-philippe\n",
      "Processing City: kedrovyy\n",
      "Processing City: cabo san lucas\n",
      "Processing City: tasiilaq\n",
      "Processing City: hasaki\n",
      "Processing City: samarai\n",
      "Processing City: petropavlovsk-kamchatskiy\n",
      "Processing City: evensk\n",
      "Processing City: petrozavodsk\n",
      "Processing City: gat\n",
      "City not found. Skipping\n",
      "Processing City: angoche\n",
      "Processing City: yar-sale\n",
      "Processing City: hermanus\n",
      "Processing City: tilichiki\n",
      "Processing City: bambous virieux\n",
      "Processing City: castro\n",
      "Processing City: ribeira grande\n",
      "Processing City: dikson\n",
      "Processing City: los llanos de aridane\n",
      "Processing City: carnaiba\n",
      "Processing City: camopi\n",
      "Processing City: aden\n",
      "Processing City: sitka\n",
      "Processing City: urubicha\n",
      "Processing City: caravelas\n",
      "Processing City: areka\n",
      "Processing City: iquitos\n",
      "Processing City: chokurdakh\n",
      "City not found. Skipping\n",
      "Processing City: kapuskasing\n",
      "Processing City: longyearbyen\n",
      "Processing City: kirakira\n",
      "Processing City: lagoa\n",
      "City not found. Skipping\n",
      "Processing City: surt\n",
      "Processing City: guerrero negro\n",
      "Processing City: port-gentil\n",
      "Processing City: upernavik\n",
      "Processing City: tiksi\n",
      "Processing City: ambulu\n",
      "Processing City: la ronge\n",
      "Processing City: tuktoyaktuk\n",
      "Processing City: bengkulu\n",
      "Processing City: siguiri\n",
      "Processing City: pietarsaari\n",
      "Processing City: meadow lake\n",
      "Processing City: ahipara\n",
      "Processing City: redlands\n",
      "Processing City: caarapo\n",
      "Processing City: portland\n",
      "Processing City: new norfolk\n",
      "Processing City: hualmay\n",
      "Processing City: mandalgovi\n",
      "Processing City: hithadhoo\n",
      "Processing City: jiexiu\n",
      "Processing City: faya\n",
      "Processing City: talnakh\n",
      "City not found. Skipping\n",
      "Processing City: altamira\n",
      "Processing City: merrill\n",
      "Processing City: vila\n",
      "Processing City: catuday\n",
      "Processing City: mehamn\n",
      "Processing City: lebu\n",
      "Processing City: bairiki\n",
      "Processing City: la huacana\n",
      "Processing City: ilhabela\n",
      "Processing City: clyde river\n",
      "Processing City: las choapas\n",
      "Processing City: east london\n",
      "Processing City: mandleshwar\n",
      "Processing City: luena\n",
      "Processing City: faanui\n",
      "Processing City: norman wells\n",
      "Processing City: freeport\n",
      "Processing City: kokopo\n",
      "Processing City: hovd\n",
      "Processing City: shenjiamen\n",
      "Processing City: qaanaaq\n",
      "Processing City: belaya gora\n",
      "Processing City: pilar\n",
      "Processing City: souillac\n",
      "Processing City: albany\n",
      "Processing City: nanortalik\n",
      "Processing City: darasun\n",
      "Processing City: sao filipe\n",
      "Processing City: thompson\n",
      "Processing City: pandan\n",
      "Processing City: elko\n",
      "Processing City: poum\n",
      "Processing City: yellowknife\n",
      "Processing City: darnah\n",
      "Processing City: gravelbourg\n",
      "Processing City: manicore\n",
      "Processing City: fortuna\n",
      "Processing City: oktyabrskiy\n",
      "Processing City: monte alegre\n",
      "Processing City: hamilton\n",
      "Processing City: necochea\n",
      "Processing City: pangnirtung\n",
      "Processing City: port hardy\n",
      "Processing City: butte\n",
      "Processing City: xinyu\n",
      "Processing City: saint-pierre\n",
      "Processing City: klaksvik\n",
      "Processing City: grand gaube\n",
      "Processing City: ferkessedougou\n",
      "Processing City: manama\n",
      "Processing City: bredasdorp\n",
      "Processing City: arica\n",
      "Processing City: berdigestyakh\n",
      "Processing City: adre\n",
      "Processing City: college\n",
      "Processing City: komsomolskiy\n",
      "Processing City: narsaq\n",
      "Processing City: soria\n",
      "Processing City: georgetown\n",
      "Processing City: chiredzi\n",
      "Processing City: vung tau\n",
      "Processing City: mahebourg\n",
      "Processing City: goma\n",
      "Processing City: tual\n",
      "City not found. Skipping\n",
      "Processing City: norrkoping\n",
      "Processing City: pevek\n",
      "Processing City: beloha\n",
      "Processing City: mount isa\n",
      "Processing City: coquimbo\n",
      "City not found. Skipping\n",
      "Processing City: vardo\n",
      "Processing City: khasan\n",
      "City not found. Skipping\n",
      "Processing City: san francisco\n",
      "City not found. Skipping\n",
      "Processing City: beringovskiy\n",
      "Processing City: esperance\n",
      "Processing City: egvekinot\n",
      "Processing City: sao joao da barra\n",
      "Processing City: butaritari\n",
      "City not found. Skipping\n",
      "Processing City: cap malheureux\n",
      "Processing City: hollola\n",
      "Processing City: ayagoz\n",
      "Processing City: richards bay\n",
      "Processing City: alto araguaia\n",
      "Processing City: malatya\n",
      "Processing City: tessalit\n",
      "Processing City: anadyr\n",
      "Processing City: kazachinskoye\n",
      "Processing City: manvi\n",
      "Processing City: kjellerup\n",
      "Processing City: kaeo\n",
      "Processing City: riohacha\n",
      "Processing City: salinopolis\n",
      "Processing City: sakrand\n",
      "Processing City: mount pleasant\n",
      "Processing City: sri aman\n",
      "Processing City: qiryat shemona\n",
      "Processing City: lakhisarai\n",
      "Processing City: paralimni\n",
      "Processing City: srednekolymsk\n",
      "Processing City: porto novo\n",
      "Processing City: rundu\n",
      "Processing City: ahuimanu\n",
      "Processing City: takoradi\n",
      "Processing City: lata\n",
      "Processing City: kosh-agach\n",
      "Processing City: mombetsu\n",
      "City not found. Skipping\n",
      "Processing City: saint-augustin\n",
      "City not found. Skipping\n",
      "Processing City: aklavik\n",
      "Processing City: salalah\n",
      "Processing City: tripoli\n",
      "Processing City: barrow\n",
      "Processing City: lavrentiya\n",
      "Processing City: victoria\n",
      "Processing City: port-cartier\n",
      "Processing City: namatanai\n",
      "Processing City: mattawa\n",
      "Processing City: vila franca do campo\n",
      "Processing City: goure\n",
      "Processing City: baruun-urt\n",
      "Processing City: lasa\n",
      "Processing City: sorland\n",
      "Processing City: severo-kurilsk\n",
      "Processing City: moftinu mare\n",
      "Processing City: avarua\n",
      "Processing City: nome\n",
      "Processing City: bandarbeyla\n",
      "Processing City: tateyama\n",
      "Processing City: prince rupert\n",
      "City not found. Skipping\n",
      "Processing City: lorengau\n",
      "Processing City: tijara\n",
      "Processing City: kavaratti\n",
      "Processing City: rincon\n",
      "Processing City: west bend\n",
      "Processing City: ughelli\n",
      "Processing City: tarbes\n",
      "City not found. Skipping\n",
      "Processing City: grindavik\n",
      "Processing City: juneau\n",
      "Processing City: saint anthony\n",
      "City not found. Skipping\n",
      "Processing City: muros\n",
      "Processing City: estelle\n",
      "City not found. Skipping\n",
      "City not found. Skipping\n",
      "Processing City: charters towers\n",
      "Processing City: puerto leguizamo\n",
      "City not found. Skipping\n",
      "Processing City: belmonte\n",
      "Processing City: qaqortoq\n",
      "Processing City: varkaus\n",
      "Processing City: kidal\n",
      "Processing City: xiongzhou\n",
      "Processing City: eyl\n",
      "Processing City: chippewa falls\n",
      "Processing City: borba\n",
      "Processing City: cavalcante\n",
      "City not found. Skipping\n",
      "City not found. Skipping\n",
      "Processing City: gillette\n",
      "Processing City: saint-georges\n",
      "City not found. Skipping\n",
      "Processing City: vao\n",
      "Processing City: clarksburg\n",
      "Processing City: ponta do sol\n",
      "Processing City: bereda\n",
      "Processing City: voi\n",
      "Processing City: muzhi\n",
      "Processing City: karratha\n",
      "Processing City: ciudad bolivar\n",
      "Processing City: yumen\n",
      "Processing City: matagami\n",
      "City not found. Skipping\n",
      "Processing City: odoyev\n",
      "Processing City: monterey\n",
      "Processing City: dire dawa\n",
      "Processing City: ushtobe\n",
      "Processing City: axim\n",
      "Processing City: ha tinh\n"
     ]
    },
    {
     "name": "stdout",
     "output_type": "stream",
     "text": [
      "Processing City: snyder\n",
      "Processing City: huarmey\n",
      "Processing City: suruc\n",
      "Processing City: rawson\n",
      "Processing City: marsabit\n",
      "Processing City: tabuk\n",
      "Processing City: nabire\n",
      "Processing City: baza\n",
      "Processing City: san quintin\n",
      "Processing City: laguna\n",
      "Processing City: xuddur\n",
      "Processing City: riachao das neves\n",
      "Processing City: mildura\n",
      "Processing City: garowe\n",
      "Processing City: houma\n",
      "Processing City: port elizabeth\n",
      "Processing City: borovoy\n",
      "Processing City: west wendover\n",
      "Processing City: brooks\n",
      "Processing City: coahuayana\n",
      "Processing City: bandundu\n",
      "Processing City: meulaboh\n",
      "City not found. Skipping\n",
      "City not found. Skipping\n",
      "Processing City: ghanaur\n",
      "Processing City: bukachacha\n",
      "Processing City: timmins\n",
      "Processing City: inhambane\n",
      "Processing City: geraldton\n",
      "Processing City: hyeres\n",
      "Processing City: birin\n",
      "Processing City: conceicao do araguaia\n",
      "Processing City: harbour breton\n",
      "Processing City: zhigansk\n",
      "City not found. Skipping\n",
      "Processing City: nyborg\n",
      "Processing City: nurota\n",
      "Processing City: weihe\n",
      "Processing City: broome\n",
      "Processing City: nishihara\n",
      "Processing City: oswego\n",
      "Processing City: bodden town\n",
      "Processing City: itarema\n",
      "City not found. Skipping\n",
      "Processing City: kattivakkam\n",
      "City not found. Skipping\n",
      "Processing City: havre-saint-pierre\n",
      "Processing City: parabel\n",
      "Processing City: serafimovich\n",
      "Processing City: aras\n",
      "Processing City: ajdabiya\n",
      "Processing City: isangel\n",
      "Processing City: loukhi\n",
      "City not found. Skipping\n",
      "Processing City: alihe\n",
      "Processing City: doka\n",
      "Processing City: inirida\n",
      "Processing City: saldanha\n",
      "Processing City: murakami\n",
      "Processing City: burnie\n",
      "Processing City: rumoi\n",
      "Processing City: inverbervie\n",
      "Processing City: santa isabel\n",
      "Processing City: mount gambier\n",
      "Processing City: kijang\n",
      "Processing City: praia\n",
      "City not found. Skipping\n",
      "Processing City: ocampo\n",
      "Processing City: kavieng\n",
      "Processing City: bundaberg\n",
      "Processing City: constantine\n",
      "City not found. Skipping\n",
      "Processing City: talaya\n",
      "Processing City: jasper\n",
      "Processing City: hun\n",
      "Processing City: nalut\n",
      "Processing City: tecolutla\n",
      "Processing City: karangampel\n",
      "Processing City: dangara\n",
      "City not found. Skipping\n",
      "Processing City: harper\n",
      "Processing City: codrington\n",
      "Processing City: kovdor\n",
      "Processing City: port lincoln\n",
      "Processing City: atar\n",
      "City not found. Skipping\n",
      "Processing City: nerchinskiy zavod\n",
      "Processing City: sapa\n",
      "Processing City: vrangel\n",
      "Processing City: malanville\n",
      "Processing City: drumnadrochit\n",
      "Processing City: letlhakane\n",
      "Processing City: yarmouth\n",
      "Processing City: maniitsoq\n",
      "Processing City: san andres\n",
      "Processing City: poopo\n",
      "Processing City: swan hill\n",
      "Processing City: mabaruma\n",
      "Processing City: dandong\n",
      "Processing City: buncrana\n",
      "Processing City: newport\n",
      "Processing City: novooleksiyivka\n",
      "Processing City: ilulissat\n",
      "Processing City: naze\n",
      "Processing City: jiangyou\n",
      "City not found. Skipping\n",
      "Processing City: homer\n",
      "Processing City: emerald\n",
      "Processing City: mwene-ditu\n",
      "Processing City: limulunga\n",
      "Processing City: aranos\n",
      "Processing City: miri\n",
      "Processing City: leh\n",
      "Processing City: gorontalo\n",
      "Processing City: wukari\n",
      "Processing City: leningradskiy\n",
      "Processing City: igunga\n",
      "Processing City: qandala\n",
      "Processing City: tucuma\n",
      "Processing City: biloela\n",
      "Processing City: rio tinto\n",
      "Processing City: la palma\n",
      "City not found. Skipping\n",
      "Processing City: jalu\n",
      "Processing City: kalmunai\n",
      "City not found. Skipping\n",
      "Processing City: finschhafen\n",
      "Processing City: klyuchi\n",
      "Processing City: tadine\n",
      "Processing City: hailey\n",
      "Processing City: hervey bay\n",
      "Processing City: karuzi\n",
      "Processing City: batemans bay\n",
      "Processing City: chistoye\n",
      "Processing City: tutoia\n",
      "Processing City: den helder\n",
      "Processing City: imeni poliny osipenko\n",
      "Processing City: taunggyi\n",
      "Processing City: airai\n",
      "Processing City: barranca\n",
      "Processing City: pinyug\n",
      "Processing City: bandar-e lengeh\n",
      "Processing City: kudahuvadhoo\n",
      "Processing City: grand-santi\n",
      "Processing City: nicoya\n",
      "Processing City: igrim\n",
      "Processing City: krasnyy chikoy\n",
      "Processing City: henties bay\n",
      "Processing City: batagay-alyta\n",
      "Processing City: iqaluit\n",
      "Processing City: buchanan\n",
      "Processing City: chern\n",
      "Processing City: serafimovskiy\n",
      "City not found. Skipping\n",
      "Processing City: bom jesus\n",
      "Processing City: surat\n",
      "Processing City: cape canaveral\n",
      "Processing City: hastings\n",
      "Processing City: fort dodge\n",
      "Processing City: minab\n",
      "Processing City: bayan\n",
      "Processing City: cedar hill\n",
      "Processing City: savalou\n",
      "Processing City: maun\n",
      "Processing City: kumluca\n",
      "City not found. Skipping\n",
      "Processing City: tiarei\n",
      "Processing City: katherine\n",
      "Processing City: margate\n",
      "Processing City: husavik\n",
      "Processing City: asau\n",
      "Processing City: casablanca\n",
      "Processing City: cidreira\n",
      "Processing City: torbay\n",
      "Processing City: kazerun\n",
      "Processing City: marienburg\n",
      "Processing City: tuatapere\n",
      "Processing City: flinders\n",
      "Processing City: malindi\n",
      "Processing City: arraial do cabo\n",
      "Processing City: sibu\n",
      "Processing City: bethel\n",
      "Processing City: tarakan\n",
      "Processing City: sokolow podlaski\n",
      "Processing City: benguela\n",
      "Processing City: ust-ishim\n",
      "Processing City: krasnoselkup\n",
      "Processing City: tautira\n",
      "Processing City: wuning\n",
      "Processing City: talcahuano\n",
      "Processing City: russell\n",
      "Processing City: araouane\n",
      "Processing City: brae\n",
      "City not found. Skipping\n",
      "Processing City: adiake\n",
      "Processing City: sur\n",
      "Processing City: kushiro\n",
      "City not found. Skipping\n",
      "Processing City: tayginka\n",
      "Processing City: pisco\n",
      "Processing City: wilmington\n",
      "Processing City: praia da vitoria\n",
      "Processing City: haines junction\n",
      "City not found. Skipping\n",
      "Processing City: salinas\n",
      "Processing City: ancud\n",
      "City not found. Skipping\n",
      "Processing City: chaihe\n",
      "Processing City: bluefields\n",
      "Processing City: mgandu\n",
      "Processing City: tukrah\n",
      "Processing City: opuwo\n",
      "Processing City: ocos\n",
      "Processing City: kieta\n",
      "Processing City: mitu\n",
      "Processing City: nangong\n",
      "Processing City: kaupanger\n",
      "City not found. Skipping\n",
      "Processing City: aksu\n",
      "Processing City: whitecourt\n",
      "Processing City: taoudenni\n",
      "Processing City: owando\n",
      "Processing City: toora-khem\n",
      "Processing City: palmer\n",
      "Processing City: pahrump\n",
      "Processing City: buraydah\n",
      "Processing City: emba\n",
      "City not found. Skipping\n",
      "Processing City: marsa matruh\n",
      "Processing City: cabedelo\n",
      "Processing City: cuiluan\n",
      "Processing City: maumere\n",
      "Processing City: yeysk\n",
      "Processing City: hambantota\n",
      "Processing City: gayeri\n",
      "Processing City: truro\n",
      "Processing City: olden\n",
      "Processing City: fairbanks\n",
      "Processing City: merauke\n",
      "Processing City: aasiaat\n",
      "Processing City: yulara\n",
      "Processing City: touros\n",
      "Processing City: biak\n",
      "Processing City: dingle\n",
      "Processing City: raudeberg\n",
      "Processing City: raga\n",
      "Processing City: marawi\n",
      "Processing City: namie\n",
      "Processing City: crato\n",
      "Processing City: le portel\n",
      "Processing City: ostrowiec swietokrzyski\n",
      "Processing City: lompoc\n",
      "Processing City: vostok\n",
      "City not found. Skipping\n",
      "Processing City: elliot lake\n",
      "Processing City: turukhansk\n",
      "Processing City: pakokku\n",
      "Processing City: gondar\n",
      "City not found. Skipping\n",
      "City not found. Skipping\n",
      "Processing City: dzhebariki-khaya\n",
      "Processing City: koungou\n",
      "Processing City: fernley\n",
      "City not found. Skipping\n",
      "Processing City: paragominas\n",
      "Processing City: alexander city\n",
      "City not found. Skipping\n",
      "Processing City: sistranda\n",
      "Processing City: miracema do tocantins\n",
      "Processing City: salina cruz\n",
      "Processing City: adrar\n",
      "Processing City: bilibino\n",
      "Processing City: eureka\n",
      "Processing City: marsh harbour\n",
      "Processing City: misratah\n",
      "Processing City: alofi\n",
      "Processing City: sukhumi\n",
      "Processing City: goulburn\n",
      "Processing City: hvolsvollur\n",
      "Processing City: quatre cocos\n",
      "Processing City: kununurra\n",
      "City not found. Skipping\n",
      "Processing City: ulaangom\n",
      "Processing City: ornskoldsvik\n",
      "Processing City: capelinha\n",
      "Processing City: rapid valley\n",
      "Processing City: senanga\n",
      "Processing City: nushki\n",
      "Processing City: yarkovo\n",
      "Processing City: japura\n",
      "Processing City: kant\n",
      "Processing City: slave lake\n",
      "Processing City: carbonia\n",
      "Processing City: san patricio\n",
      "Processing City: sandviken\n",
      "Processing City: bilma\n",
      "Processing City: dzaoudzi\n",
      "City not found. Skipping\n",
      "Processing City: moerai\n",
      "----End Data Retrieval Process----\n"
     ]
    }
   ],
   "source": [
    "city_name_l = []\n",
    "cloud_l = []\n",
    "country_l = []\n",
    "date_l = []\n",
    "humidity_l = []\n",
    "lat = []\n",
    "lng = []\n",
    "maxtemp_l = []\n",
    "wind_l = []\n",
    "\n",
    "base_url = \"http://api.openweathermap.org/data/2.5/weather?units=Imperial&APPID=\"+weather_api_key+\"&q=\"\n",
    "\n",
    "print(\"<------Beginning Data Retrieval Process------->\")\n",
    "#looping through each city\n",
    "for city in cities:\n",
    "    url = base_url + city\n",
    "    response = requests.get(url).json()\n",
    "    #exception handling for \"city not found\"\n",
    "    try:\n",
    "        if response[\"message\"] == \"city not found\":\n",
    "            print(\"City not found. Skipping\")\n",
    "            \n",
    "    except:\n",
    "        print(\"Processing City: \" + city)\n",
    "        city_name_l.append(city)\n",
    "        cloud_l.append(response[\"clouds\"][\"all\"])\n",
    "        country_l.append(response[\"sys\"][\"country\"])\n",
    "        date_l.append(response[\"dt\"])\n",
    "        humidity_l.append(response[\"main\"][\"humidity\"])\n",
    "        lat.append(response[\"coord\"][\"lat\"])\n",
    "        lng.append(response[\"coord\"][\"lon\"])\n",
    "        maxtemp_l.append(response[\"main\"][\"temp_max\"])\n",
    "        wind_l.append(response[\"wind\"][\"speed\"])\n",
    "\n",
    "print(\"----End Data Retrieval Process----\")\n",
    "\n",
    "\n",
    "\n",
    "\n",
    "\n",
    "\n",
    "\n",
    "\n",
    "\n"
   ]
  },
  {
   "cell_type": "markdown",
   "metadata": {},
   "source": [
    "### Convert Raw Data to DataFrame\n",
    "* Export the city data into a .csv.\n",
    "* Display the DataFrame"
   ]
  },
  {
   "cell_type": "code",
   "execution_count": 20,
   "metadata": {},
   "outputs": [
    {
     "data": {
      "text/html": [
       "<div>\n",
       "<style scoped>\n",
       "    .dataframe tbody tr th:only-of-type {\n",
       "        vertical-align: middle;\n",
       "    }\n",
       "\n",
       "    .dataframe tbody tr th {\n",
       "        vertical-align: top;\n",
       "    }\n",
       "\n",
       "    .dataframe thead th {\n",
       "        text-align: right;\n",
       "    }\n",
       "</style>\n",
       "<table border=\"1\" class=\"dataframe\">\n",
       "  <thead>\n",
       "    <tr style=\"text-align: right;\">\n",
       "      <th></th>\n",
       "      <th>City</th>\n",
       "      <th>Cloudiness</th>\n",
       "      <th>Country</th>\n",
       "      <th>Date</th>\n",
       "      <th>Humidity</th>\n",
       "      <th>Lat</th>\n",
       "      <th>Lng</th>\n",
       "      <th>Max Temp</th>\n",
       "      <th>Wind Speed</th>\n",
       "    </tr>\n",
       "  </thead>\n",
       "  <tbody>\n",
       "    <tr>\n",
       "      <th>0</th>\n",
       "      <td>ugoofaaru</td>\n",
       "      <td>34</td>\n",
       "      <td>MV</td>\n",
       "      <td>1612046598</td>\n",
       "      <td>70</td>\n",
       "      <td>5.6667</td>\n",
       "      <td>73.0000</td>\n",
       "      <td>80.89</td>\n",
       "      <td>9.28</td>\n",
       "    </tr>\n",
       "    <tr>\n",
       "      <th>1</th>\n",
       "      <td>bathsheba</td>\n",
       "      <td>40</td>\n",
       "      <td>BB</td>\n",
       "      <td>1612046633</td>\n",
       "      <td>65</td>\n",
       "      <td>13.2167</td>\n",
       "      <td>-59.5167</td>\n",
       "      <td>80.60</td>\n",
       "      <td>13.80</td>\n",
       "    </tr>\n",
       "    <tr>\n",
       "      <th>2</th>\n",
       "      <td>punta arenas</td>\n",
       "      <td>0</td>\n",
       "      <td>CL</td>\n",
       "      <td>1612046347</td>\n",
       "      <td>58</td>\n",
       "      <td>-53.1500</td>\n",
       "      <td>-70.9167</td>\n",
       "      <td>55.40</td>\n",
       "      <td>21.85</td>\n",
       "    </tr>\n",
       "    <tr>\n",
       "      <th>3</th>\n",
       "      <td>naryan-mar</td>\n",
       "      <td>100</td>\n",
       "      <td>RU</td>\n",
       "      <td>1612046633</td>\n",
       "      <td>93</td>\n",
       "      <td>67.6713</td>\n",
       "      <td>53.0870</td>\n",
       "      <td>3.18</td>\n",
       "      <td>11.83</td>\n",
       "    </tr>\n",
       "    <tr>\n",
       "      <th>4</th>\n",
       "      <td>cape town</td>\n",
       "      <td>75</td>\n",
       "      <td>ZA</td>\n",
       "      <td>1612046633</td>\n",
       "      <td>77</td>\n",
       "      <td>-33.9258</td>\n",
       "      <td>18.4232</td>\n",
       "      <td>71.01</td>\n",
       "      <td>1.14</td>\n",
       "    </tr>\n",
       "    <tr>\n",
       "      <th>...</th>\n",
       "      <td>...</td>\n",
       "      <td>...</td>\n",
       "      <td>...</td>\n",
       "      <td>...</td>\n",
       "      <td>...</td>\n",
       "      <td>...</td>\n",
       "      <td>...</td>\n",
       "      <td>...</td>\n",
       "      <td>...</td>\n",
       "    </tr>\n",
       "    <tr>\n",
       "      <th>551</th>\n",
       "      <td>san patricio</td>\n",
       "      <td>75</td>\n",
       "      <td>US</td>\n",
       "      <td>1612046771</td>\n",
       "      <td>61</td>\n",
       "      <td>28.0170</td>\n",
       "      <td>-97.5169</td>\n",
       "      <td>80.60</td>\n",
       "      <td>19.57</td>\n",
       "    </tr>\n",
       "    <tr>\n",
       "      <th>552</th>\n",
       "      <td>sandviken</td>\n",
       "      <td>71</td>\n",
       "      <td>SE</td>\n",
       "      <td>1612046772</td>\n",
       "      <td>73</td>\n",
       "      <td>60.6167</td>\n",
       "      <td>16.7667</td>\n",
       "      <td>12.00</td>\n",
       "      <td>4.00</td>\n",
       "    </tr>\n",
       "    <tr>\n",
       "      <th>553</th>\n",
       "      <td>bilma</td>\n",
       "      <td>36</td>\n",
       "      <td>NE</td>\n",
       "      <td>1612046772</td>\n",
       "      <td>30</td>\n",
       "      <td>18.6853</td>\n",
       "      <td>12.9164</td>\n",
       "      <td>58.24</td>\n",
       "      <td>3.13</td>\n",
       "    </tr>\n",
       "    <tr>\n",
       "      <th>554</th>\n",
       "      <td>dzaoudzi</td>\n",
       "      <td>0</td>\n",
       "      <td>YT</td>\n",
       "      <td>1612046773</td>\n",
       "      <td>78</td>\n",
       "      <td>-12.7887</td>\n",
       "      <td>45.2699</td>\n",
       "      <td>80.60</td>\n",
       "      <td>5.75</td>\n",
       "    </tr>\n",
       "    <tr>\n",
       "      <th>555</th>\n",
       "      <td>moerai</td>\n",
       "      <td>54</td>\n",
       "      <td>PF</td>\n",
       "      <td>1612046774</td>\n",
       "      <td>67</td>\n",
       "      <td>-22.4333</td>\n",
       "      <td>-151.3333</td>\n",
       "      <td>81.23</td>\n",
       "      <td>12.46</td>\n",
       "    </tr>\n",
       "  </tbody>\n",
       "</table>\n",
       "<p>556 rows × 9 columns</p>\n",
       "</div>"
      ],
      "text/plain": [
       "             City  Cloudiness Country        Date  Humidity      Lat  \\\n",
       "0       ugoofaaru          34      MV  1612046598        70   5.6667   \n",
       "1       bathsheba          40      BB  1612046633        65  13.2167   \n",
       "2    punta arenas           0      CL  1612046347        58 -53.1500   \n",
       "3      naryan-mar         100      RU  1612046633        93  67.6713   \n",
       "4       cape town          75      ZA  1612046633        77 -33.9258   \n",
       "..            ...         ...     ...         ...       ...      ...   \n",
       "551  san patricio          75      US  1612046771        61  28.0170   \n",
       "552     sandviken          71      SE  1612046772        73  60.6167   \n",
       "553         bilma          36      NE  1612046772        30  18.6853   \n",
       "554      dzaoudzi           0      YT  1612046773        78 -12.7887   \n",
       "555        moerai          54      PF  1612046774        67 -22.4333   \n",
       "\n",
       "          Lng  Max Temp  Wind Speed  \n",
       "0     73.0000     80.89        9.28  \n",
       "1    -59.5167     80.60       13.80  \n",
       "2    -70.9167     55.40       21.85  \n",
       "3     53.0870      3.18       11.83  \n",
       "4     18.4232     71.01        1.14  \n",
       "..        ...       ...         ...  \n",
       "551  -97.5169     80.60       19.57  \n",
       "552   16.7667     12.00        4.00  \n",
       "553   12.9164     58.24        3.13  \n",
       "554   45.2699     80.60        5.75  \n",
       "555 -151.3333     81.23       12.46  \n",
       "\n",
       "[556 rows x 9 columns]"
      ]
     },
     "execution_count": 20,
     "metadata": {},
     "output_type": "execute_result"
    }
   ],
   "source": [
    "city_weather_df = pd.DataFrame({ \n",
    "                \"City\" : city_name_l,\n",
    "                \"Cloudiness\" : cloud_l,\n",
    "                \"Country\" : country_l,\n",
    "                \"Date\" : date_l,\n",
    "                \"Humidity\" : humidity_l,\n",
    "                \"Lat\" : lat,\n",
    "                \"Lng\" : lng,\n",
    "                \"Max Temp\" : maxtemp_l,\n",
    "                \"Wind Speed\" : wind_l\n",
    "})\n",
    "city_weather_df"
   ]
  },
  {
   "cell_type": "code",
   "execution_count": 31,
   "metadata": {},
   "outputs": [
    {
     "data": {
      "text/html": [
       "<div>\n",
       "<style scoped>\n",
       "    .dataframe tbody tr th:only-of-type {\n",
       "        vertical-align: middle;\n",
       "    }\n",
       "\n",
       "    .dataframe tbody tr th {\n",
       "        vertical-align: top;\n",
       "    }\n",
       "\n",
       "    .dataframe thead th {\n",
       "        text-align: right;\n",
       "    }\n",
       "</style>\n",
       "<table border=\"1\" class=\"dataframe\">\n",
       "  <thead>\n",
       "    <tr style=\"text-align: right;\">\n",
       "      <th></th>\n",
       "      <th>City</th>\n",
       "      <th>Cloudiness</th>\n",
       "      <th>Country</th>\n",
       "      <th>Date</th>\n",
       "      <th>Humidity</th>\n",
       "      <th>Lat</th>\n",
       "      <th>Lng</th>\n",
       "      <th>Max Temp</th>\n",
       "      <th>Wind Speed</th>\n",
       "    </tr>\n",
       "  </thead>\n",
       "  <tbody>\n",
       "    <tr>\n",
       "      <th>0</th>\n",
       "      <td>ugoofaaru</td>\n",
       "      <td>34</td>\n",
       "      <td>MV</td>\n",
       "      <td>1612046598</td>\n",
       "      <td>70</td>\n",
       "      <td>5.6667</td>\n",
       "      <td>73.0000</td>\n",
       "      <td>80.89</td>\n",
       "      <td>9.28</td>\n",
       "    </tr>\n",
       "    <tr>\n",
       "      <th>1</th>\n",
       "      <td>bathsheba</td>\n",
       "      <td>40</td>\n",
       "      <td>BB</td>\n",
       "      <td>1612046633</td>\n",
       "      <td>65</td>\n",
       "      <td>13.2167</td>\n",
       "      <td>-59.5167</td>\n",
       "      <td>80.60</td>\n",
       "      <td>13.80</td>\n",
       "    </tr>\n",
       "    <tr>\n",
       "      <th>2</th>\n",
       "      <td>punta arenas</td>\n",
       "      <td>0</td>\n",
       "      <td>CL</td>\n",
       "      <td>1612046347</td>\n",
       "      <td>58</td>\n",
       "      <td>-53.1500</td>\n",
       "      <td>-70.9167</td>\n",
       "      <td>55.40</td>\n",
       "      <td>21.85</td>\n",
       "    </tr>\n",
       "    <tr>\n",
       "      <th>3</th>\n",
       "      <td>naryan-mar</td>\n",
       "      <td>100</td>\n",
       "      <td>RU</td>\n",
       "      <td>1612046633</td>\n",
       "      <td>93</td>\n",
       "      <td>67.6713</td>\n",
       "      <td>53.0870</td>\n",
       "      <td>3.18</td>\n",
       "      <td>11.83</td>\n",
       "    </tr>\n",
       "    <tr>\n",
       "      <th>4</th>\n",
       "      <td>cape town</td>\n",
       "      <td>75</td>\n",
       "      <td>ZA</td>\n",
       "      <td>1612046633</td>\n",
       "      <td>77</td>\n",
       "      <td>-33.9258</td>\n",
       "      <td>18.4232</td>\n",
       "      <td>71.01</td>\n",
       "      <td>1.14</td>\n",
       "    </tr>\n",
       "  </tbody>\n",
       "</table>\n",
       "</div>"
      ],
      "text/plain": [
       "           City  Cloudiness Country        Date  Humidity      Lat      Lng  \\\n",
       "0     ugoofaaru          34      MV  1612046598        70   5.6667  73.0000   \n",
       "1     bathsheba          40      BB  1612046633        65  13.2167 -59.5167   \n",
       "2  punta arenas           0      CL  1612046347        58 -53.1500 -70.9167   \n",
       "3    naryan-mar         100      RU  1612046633        93  67.6713  53.0870   \n",
       "4     cape town          75      ZA  1612046633        77 -33.9258  18.4232   \n",
       "\n",
       "   Max Temp  Wind Speed  \n",
       "0     80.89        9.28  \n",
       "1     80.60       13.80  \n",
       "2     55.40       21.85  \n",
       "3      3.18       11.83  \n",
       "4     71.01        1.14  "
      ]
     },
     "execution_count": 31,
     "metadata": {},
     "output_type": "execute_result"
    }
   ],
   "source": [
    "city_weather_df.to_csv(\"./cities_weather.csv\")\n",
    "city_weather_df.head()"
   ]
  },
  {
   "cell_type": "code",
   "execution_count": 39,
   "metadata": {},
   "outputs": [
    {
     "data": {
      "text/html": [
       "<div>\n",
       "<style scoped>\n",
       "    .dataframe tbody tr th:only-of-type {\n",
       "        vertical-align: middle;\n",
       "    }\n",
       "\n",
       "    .dataframe tbody tr th {\n",
       "        vertical-align: top;\n",
       "    }\n",
       "\n",
       "    .dataframe thead th {\n",
       "        text-align: right;\n",
       "    }\n",
       "</style>\n",
       "<table border=\"1\" class=\"dataframe\">\n",
       "  <thead>\n",
       "    <tr style=\"text-align: right;\">\n",
       "      <th></th>\n",
       "      <th>City</th>\n",
       "      <th>Cloudiness</th>\n",
       "      <th>Country</th>\n",
       "      <th>Date</th>\n",
       "      <th>Humidity</th>\n",
       "      <th>Lat</th>\n",
       "      <th>Lng</th>\n",
       "      <th>Max Temp</th>\n",
       "      <th>Wind Speed</th>\n",
       "    </tr>\n",
       "  </thead>\n",
       "  <tbody>\n",
       "  </tbody>\n",
       "</table>\n",
       "</div>"
      ],
      "text/plain": [
       "Empty DataFrame\n",
       "Columns: [City, Cloudiness, Country, Date, Humidity, Lat, Lng, Max Temp, Wind Speed]\n",
       "Index: []"
      ]
     },
     "execution_count": 39,
     "metadata": {},
     "output_type": "execute_result"
    }
   ],
   "source": [
    "\n",
    "\n",
    "# df.loc[df['Type of ownership'] == '0']"
   ]
  },
  {
   "cell_type": "markdown",
   "metadata": {},
   "source": [
    "## Inspect the data and remove the cities where the humidity > 100%.\n",
    "----\n",
    "Skip this step if there are no cities that have humidity > 100%. "
   ]
  },
  {
   "cell_type": "code",
   "execution_count": null,
   "metadata": {},
   "outputs": [],
   "source": [
    "#No cities found where the humidity > 100%\n",
    "city_weather_df.loc[city_weather_df['Humidity'] > 100,:]"
   ]
  },
  {
   "cell_type": "code",
   "execution_count": null,
   "metadata": {},
   "outputs": [],
   "source": [
    "#  Get the indices of cities that have humidity over 100%.\n"
   ]
  },
  {
   "cell_type": "code",
   "execution_count": null,
   "metadata": {},
   "outputs": [],
   "source": [
    "# Make a new DataFrame equal to the city data to drop all humidity outliers by index.\n",
    "# Passing \"inplace=False\" will make a copy of the city_data DataFrame, which we call \"clean_city_data\".\n"
   ]
  },
  {
   "cell_type": "code",
   "execution_count": null,
   "metadata": {},
   "outputs": [],
   "source": [
    "\n"
   ]
  },
  {
   "cell_type": "markdown",
   "metadata": {},
   "source": [
    "## Plotting the Data\n",
    "* Use proper labeling of the plots using plot titles (including date of analysis) and axes labels.\n",
    "* Save the plotted figures as .pngs."
   ]
  },
  {
   "cell_type": "markdown",
   "metadata": {},
   "source": [
    "## Latitude vs. Temperature Plot"
   ]
  },
  {
   "cell_type": "code",
   "execution_count": 93,
   "metadata": {
    "scrolled": true
   },
   "outputs": [
    {
     "name": "stdout",
     "output_type": "stream",
     "text": [
      "Temperature drops as latitude increases\n"
     ]
    },
    {
     "data": {
      "image/png": "[encoded data removed]",
      "text/plain": [
       "<Figure size 432x288 with 1 Axes>"
      ]
     },
     "metadata": {
      "needs_background": "light"
     },
     "output_type": "display_data"
    }
   ],
   "source": [
    "plt.scatter(city_weather_df[\"Lat\"], city_weather_df[\"Max Temp\"], facecolor = \"blue\")\n",
    "\n",
    "# Set title\n",
    "plt.title(\"Latitude vs. Temperature Plot\")\n",
    "\n",
    "# Setting labels\n",
    "plt.xlabel(\"Latitude\")\n",
    "plt.ylabel(\"Max Temp\")\n",
    "\n",
    "# Set grid line\n",
    "plt.grid(linewidth=2, alpha = 0.5)\n",
    "\n",
    "# Save the fig\n",
    "plt.savefig(\"../WeatherPy/City Latitude vs Temperature.png\")\n",
    "print(\"Temperature drops as latitude increases\")"
   ]
  },
  {
   "cell_type": "markdown",
   "metadata": {},
   "source": [
    "## Latitude vs. Humidity Plot"
   ]
  },
  {
   "cell_type": "code",
   "execution_count": 92,
   "metadata": {},
   "outputs": [
    {
     "name": "stdout",
     "output_type": "stream",
     "text": [
      "Humidty increases in the southern hemisphere\n"
     ]
    },
    {
     "data": {
      "image/png": "[encoded data removed]",
      "text/plain": [
       "<Figure size 432x288 with 1 Axes>"
      ]
     },
     "metadata": {
      "needs_background": "light"
     },
     "output_type": "display_data"
    }
   ],
   "source": [
    "plt.scatter(city_weather_df[\"Lat\"], city_weather_df[\"Humidity\"], facecolor = \"blue\")\n",
    "\n",
    "# Set title\n",
    "plt.title(\"Latitude vs. Humidity Plot\")\n",
    "\n",
    "# Setting labels\n",
    "plt.xlabel(\"Latitude\")\n",
    "plt.ylabel(\"Humidity\")\n",
    "\n",
    "# Set grid line\n",
    "plt.grid(linewidth=2, alpha = 0.5)\n",
    "\n",
    "# Save the fig\n",
    "plt.savefig(\"../WeatherPy/City Latitude vs Humidity.png\")\n",
    "print(\"Humidty increases in the southern hemisphere\")"
   ]
  },
  {
   "cell_type": "markdown",
   "metadata": {},
   "source": [
    "## Latitude vs. Cloudiness Plot"
   ]
  },
  {
   "cell_type": "code",
   "execution_count": 91,
   "metadata": {},
   "outputs": [
    {
     "name": "stdout",
     "output_type": "stream",
     "text": [
      "Cloudiness is spread on the southern and northern hemisphere\n"
     ]
    },
    {
     "data": {
      "image/png": "[encoded data removed]",
      "text/plain": [
       "<Figure size 432x288 with 1 Axes>"
      ]
     },
     "metadata": {
      "needs_background": "light"
     },
     "output_type": "display_data"
    }
   ],
   "source": [
    "plt.scatter(city_weather_df[\"Lat\"], city_weather_df[\"Cloudiness\"], facecolor = \"blue\")\n",
    "\n",
    "# Set title\n",
    "plt.title(\"Latitude vs. Cloudiness Plot\")\n",
    "\n",
    "# Setting labels\n",
    "plt.xlabel(\"Latitude\")\n",
    "plt.ylabel(\"Cloudiness\")\n",
    "\n",
    "# Set grid line\n",
    "plt.grid(linewidth=2, alpha = 0.5)\n",
    "\n",
    "# Save the fig\n",
    "plt.savefig(\"../WeatherPy/City Latitude vs Cloudiness.png\")\n",
    "print(\"Cloudiness is spread on the southern and northern hemisphere\")"
   ]
  },
  {
   "cell_type": "markdown",
   "metadata": {},
   "source": [
    "## Latitude vs. Wind Speed Plot"
   ]
  },
  {
   "cell_type": "code",
   "execution_count": 84,
   "metadata": {},
   "outputs": [
    {
     "name": "stdout",
     "output_type": "stream",
     "text": [
      "Wind speed is widely spread across the latitude. There is no clear pattern\n"
     ]
    },
    {
     "data": {
      "image/png": "[encoded data removed]",
      "text/plain": [
       "<Figure size 432x288 with 1 Axes>"
      ]
     },
     "metadata": {
      "needs_background": "light"
     },
     "output_type": "display_data"
    }
   ],
   "source": [
    "plt.scatter(city_weather_df[\"Lat\"], city_weather_df[\"Wind Speed\"], facecolor = \"blue\")\n",
    "\n",
    "# Set title\n",
    "plt.title(\"Latitude vs. Wind Speed Plot\")\n",
    "\n",
    "# Setting labels\n",
    "plt.xlabel(\"Latitude\")\n",
    "plt.ylabel(\"Wind Speed\")\n",
    "\n",
    "# Set grid line\n",
    "plt.grid(linewidth=2, alpha = 0.5)\n",
    "\n",
    "# Save the fig\n",
    "plt.savefig(\"../WeatherPy/City Latitude vs Wind Speed.png\")\n",
    "print(\"Wind speed is widely spread across the latitude. There is no clear pattern\")\n",
    "# Observation: wind speed is widely spread across the latitude. There is no clear pattern"
   ]
  },
  {
   "cell_type": "markdown",
   "metadata": {},
   "source": [
    "## Linear Regression"
   ]
  },
  {
   "cell_type": "code",
   "execution_count": 94,
   "metadata": {},
   "outputs": [
    {
     "data": {
      "text/plain": [
       "City          166\n",
       "Cloudiness    166\n",
       "Country       166\n",
       "Date          166\n",
       "Humidity      166\n",
       "Lat           166\n",
       "Lng           166\n",
       "Max Temp      166\n",
       "Wind Speed    166\n",
       "dtype: int64"
      ]
     },
     "execution_count": 94,
     "metadata": {},
     "output_type": "execute_result"
    }
   ],
   "source": [
    "northern_df = city_weather_df.loc[(city_weather_df['Lat']>0)]\n",
    "southern_df = city_weather_df.loc[(city_weather_df['Lat'] < 0)]\n"
   ]
  },
  {
   "cell_type": "code",
   "execution_count": 70,
   "metadata": {},
   "outputs": [],
   "source": [
    "def liner_reg(x_values, y_values,yaxis):\n",
    "    \n",
    "    (slope, intercept, rvalue, pvalue, stderr) = linregress(x_values, y_values)\n",
    "    regress_values = x_values * slope + intercept\n",
    "    line_eq = \"y = \" + str(round(slope,2)) + \"x + \" + str(round(intercept,2))\n",
    "    \n",
    "    # Plot\n",
    "    plt.scatter(x_values,y_values)\n",
    "    plt.plot(x_values,regress_values,\"r-\")\n",
    "    plt.xlabel('Latitude')\n",
    "    plt.ylabel(yaxis)\n",
    "    print(f\"r-squared: {rvalue}\")\n",
    "    plt.show()\n"
   ]
  },
  {
   "cell_type": "markdown",
   "metadata": {},
   "source": [
    "####  Northern Hemisphere - Max Temp vs. Latitude Linear Regression"
   ]
  },
  {
   "cell_type": "code",
   "execution_count": 96,
   "metadata": {},
   "outputs": [
    {
     "name": "stdout",
     "output_type": "stream",
     "text": [
      "r-squared: -0.8466504286344715\n"
     ]
    },
    {
     "data": {
      "image/png": "[encoded data removed]",
      "text/plain": [
       "<Figure size 432x288 with 1 Axes>"
      ]
     },
     "metadata": {
      "needs_background": "light"
     },
     "output_type": "display_data"
    },
    {
     "name": "stdout",
     "output_type": "stream",
     "text": [
      "Negative Correlation between temp and latitude in Northern Hemisphere\n"
     ]
    },
    {
     "data": {
      "text/plain": [
       "<Figure size 432x288 with 0 Axes>"
      ]
     },
     "metadata": {},
     "output_type": "display_data"
    }
   ],
   "source": [
    "x_values = northern_df['Lat']\n",
    "y_values = northern_df['Max Temp']\n",
    "liner_reg(x_values,y_values,'Max Temp')\n",
    "# plt.title(\"orthern Hemisphere - Max Temp vs. Latitude Linear Regression\")\n",
    "plt.savefig(\"Northern Hemisphere - Max Temp vs. Latitude Linear Regression.png\")\n",
    "print(\"Negative Correlation between temp and latitude in Northern Hemisphere\")\n",
    "# plt.annotate(line_eq,(6,10),fontsize=15,color=\"black\")"
   ]
  },
  {
   "cell_type": "markdown",
   "metadata": {},
   "source": [
    "####  Southern Hemisphere - Max Temp vs. Latitude Linear Regression"
   ]
  },
  {
   "cell_type": "code",
   "execution_count": 97,
   "metadata": {},
   "outputs": [
    {
     "name": "stdout",
     "output_type": "stream",
     "text": [
      "r-squared: 0.4960356424117767\n"
     ]
    },
    {
     "data": {
      "image/png": "[encoded data removed]",
      "text/plain": [
       "<Figure size 432x288 with 1 Axes>"
      ]
     },
     "metadata": {
      "needs_background": "light"
     },
     "output_type": "display_data"
    },
    {
     "name": "stdout",
     "output_type": "stream",
     "text": [
      "Postive Correlation between temp and latitude in Southern Hemisphere\n"
     ]
    },
    {
     "data": {
      "text/plain": [
       "<Figure size 432x288 with 0 Axes>"
      ]
     },
     "metadata": {},
     "output_type": "display_data"
    }
   ],
   "source": [
    "x_values = southern_df['Lat']\n",
    "y_values = southern_df['Max Temp']\n",
    "liner_reg(x_values,y_values,'Max Temp')\n",
    "\n",
    "plt.savefig(\"Southern Hemisphere - Max Temp vs. Latitude Linear Regression.png\")\n",
    "print(\"Postive Correlation between temp and latitude in Southern Hemisphere\")"
   ]
  },
  {
   "cell_type": "markdown",
   "metadata": {},
   "source": [
    "####  Northern Hemisphere - Humidity (%) vs. Latitude Linear Regression"
   ]
  },
  {
   "cell_type": "code",
   "execution_count": 98,
   "metadata": {},
   "outputs": [
    {
     "name": "stdout",
     "output_type": "stream",
     "text": [
      "r-squared: 0.3077955755869836\n"
     ]
    },
    {
     "data": {
      "image/png": "[encoded data removed]",
      "text/plain": [
       "<Figure size 432x288 with 1 Axes>"
      ]
     },
     "metadata": {
      "needs_background": "light"
     },
     "output_type": "display_data"
    },
    {
     "name": "stdout",
     "output_type": "stream",
     "text": [
      "Moderate Positive Correlation between humidity and latitude in Northern Hemisphere\n"
     ]
    },
    {
     "data": {
      "text/plain": [
       "<Figure size 432x288 with 0 Axes>"
      ]
     },
     "metadata": {},
     "output_type": "display_data"
    }
   ],
   "source": [
    "x_values = northern_df['Lat']\n",
    "y_values = northern_df['Humidity']\n",
    "liner_reg(x_values,y_values,'Humidity')\n",
    "\n",
    "plt.savefig(\"Northern Hemisphere - Humidity (%) vs. Latitude Linear Regressio.png\")\n",
    "print(\"Moderate Positive Correlation between humidity and latitude in Northern Hemisphere\")"
   ]
  },
  {
   "cell_type": "markdown",
   "metadata": {},
   "source": [
    "####  Southern Hemisphere - Humidity (%) vs. Latitude Linear Regression"
   ]
  },
  {
   "cell_type": "code",
   "execution_count": 99,
   "metadata": {},
   "outputs": [
    {
     "name": "stdout",
     "output_type": "stream",
     "text": [
      "r-squared: 0.3522639666198406\n"
     ]
    },
    {
     "data": {
      "image/png": "[encoded data removed]",
      "text/plain": [
       "<Figure size 432x288 with 1 Axes>"
      ]
     },
     "metadata": {
      "needs_background": "light"
     },
     "output_type": "display_data"
    },
    {
     "name": "stdout",
     "output_type": "stream",
     "text": [
      "Moderate Positive Correlation between humidity and latitude in Southern Hemisphere\n"
     ]
    },
    {
     "data": {
      "text/plain": [
       "<Figure size 432x288 with 0 Axes>"
      ]
     },
     "metadata": {},
     "output_type": "display_data"
    }
   ],
   "source": [
    "x_values = southern_df['Lat']\n",
    "y_values = southern_df['Humidity']\n",
    "liner_reg(x_values,y_values,'Humidity')\n",
    "\n",
    "plt.savefig(\"Southern Hemisphere - Humidity (%) vs. Latitude Linear Regression.png\")\n",
    "print(\"Moderate Positive Correlation between humidity and latitude in Southern Hemisphere\")"
   ]
  },
  {
   "cell_type": "markdown",
   "metadata": {},
   "source": [
    "####  Northern Hemisphere - Cloudiness (%) vs. Latitude Linear Regression"
   ]
  },
  {
   "cell_type": "code",
   "execution_count": 101,
   "metadata": {},
   "outputs": [
    {
     "name": "stdout",
     "output_type": "stream",
     "text": [
      "r-squared: 0.28204957137908154\n"
     ]
    },
    {
     "data": {
      "image/png": "[encoded data removed]",
      "text/plain": [
       "<Figure size 432x288 with 1 Axes>"
      ]
     },
     "metadata": {
      "needs_background": "light"
     },
     "output_type": "display_data"
    },
    {
     "name": "stdout",
     "output_type": "stream",
     "text": [
      "Weak Positive Correlation between cloudiness and latitude in Northern Hemisphere and Cloudiness is spread across the hemisphere\n"
     ]
    },
    {
     "data": {
      "text/plain": [
       "<Figure size 432x288 with 0 Axes>"
      ]
     },
     "metadata": {},
     "output_type": "display_data"
    }
   ],
   "source": [
    "x_values = northern_df['Lat']\n",
    "y_values = northern_df['Cloudiness']\n",
    "liner_reg(x_values,y_values,'Cloudiness')\n",
    "\n",
    "plt.savefig(\"Northern Hemisphere - Cloudiness (%) vs. Latitude Linear Regressio.png\")\n",
    "print(\"Weak Positive Correlation between cloudiness and latitude in Northern Hemisphere and Cloudiness is spread across the hemisphere\")"
   ]
  },
  {
   "cell_type": "markdown",
   "metadata": {},
   "source": [
    "####  Southern Hemisphere - Cloudiness (%) vs. Latitude Linear Regression"
   ]
  },
  {
   "cell_type": "code",
   "execution_count": 102,
   "metadata": {},
   "outputs": [
    {
     "name": "stdout",
     "output_type": "stream",
     "text": [
      "r-squared: 0.4002513259764605\n"
     ]
    },
    {
     "data": {
      "image/png": "[encoded data removed]",
      "text/plain": [
       "<Figure size 432x288 with 1 Axes>"
      ]
     },
     "metadata": {
      "needs_background": "light"
     },
     "output_type": "display_data"
    },
    {
     "name": "stdout",
     "output_type": "stream",
     "text": [
      "Positive Correlation between cloudiness and latitude in Southern Hemisphere and Cloudiness is spread across the hemisphere\n"
     ]
    },
    {
     "data": {
      "text/plain": [
       "<Figure size 432x288 with 0 Axes>"
      ]
     },
     "metadata": {},
     "output_type": "display_data"
    }
   ],
   "source": [
    "x_values = southern_df['Lat']\n",
    "y_values = southern_df['Cloudiness']\n",
    "liner_reg(x_values,y_values,'Cloudiness')\n",
    "\n",
    "plt.savefig(\"Southern Hemisphere - Cloudiness (%) vs. Latitude Linear Regression.png\")\n",
    "print(\"Positive Correlation between cloudiness and latitude in Southern Hemisphere and Cloudiness is spread across the hemisphere\")"
   ]
  },
  {
   "cell_type": "markdown",
   "metadata": {},
   "source": [
    "####  Northern Hemisphere - Wind Speed (mph) vs. Latitude Linear Regression"
   ]
  },
  {
   "cell_type": "code",
   "execution_count": 104,
   "metadata": {},
   "outputs": [
    {
     "name": "stdout",
     "output_type": "stream",
     "text": [
      "r-squared: -0.0251044220621812\n"
     ]
    },
    {
     "data": {
      "image/png": "[encoded data removed]",
      "text/plain": [
       "<Figure size 432x288 with 1 Axes>"
      ]
     },
     "metadata": {
      "needs_background": "light"
     },
     "output_type": "display_data"
    },
    {
     "name": "stdout",
     "output_type": "stream",
     "text": [
      "Weak Positive Correlation between wind speed and latitude in Northern Hemisphere\n"
     ]
    },
    {
     "data": {
      "text/plain": [
       "<Figure size 432x288 with 0 Axes>"
      ]
     },
     "metadata": {},
     "output_type": "display_data"
    }
   ],
   "source": [
    "x_values = northern_df['Lat']\n",
    "y_values = northern_df['Wind Speed']\n",
    "liner_reg(x_values,y_values,'Wind Speed')\n",
    "\n",
    "plt.savefig(\"Northern Hemisphere - Wind Speed (mph) vs. Latitude Linear Regressio.png\")\n",
    "print(\"Weak Positive Correlation between wind speed and latitude in Northern Hemisphere\")"
   ]
  },
  {
   "cell_type": "markdown",
   "metadata": {},
   "source": [
    "####  Southern Hemisphere - Wind Speed (mph) vs. Latitude Linear Regression"
   ]
  },
  {
   "cell_type": "code",
   "execution_count": 103,
   "metadata": {},
   "outputs": [
    {
     "name": "stdout",
     "output_type": "stream",
     "text": [
      "r-squared: -0.14347756890254995\n"
     ]
    },
    {
     "data": {
      "image/png": "[encoded data removed]",
      "text/plain": [
       "<Figure size 432x288 with 1 Axes>"
      ]
     },
     "metadata": {
      "needs_background": "light"
     },
     "output_type": "display_data"
    },
    {
     "name": "stdout",
     "output_type": "stream",
     "text": [
      "Negative Correlation between wind speed and latitude in Southern Hemisphere\n"
     ]
    },
    {
     "data": {
      "text/plain": [
       "<Figure size 432x288 with 0 Axes>"
      ]
     },
     "metadata": {},
     "output_type": "display_data"
    }
   ],
   "source": [
    "x_values = southern_df['Lat']\n",
    "y_values = southern_df['Wind Speed']\n",
    "liner_reg(x_values,y_values,'Wind Speed')\n",
    "\n",
    "plt.savefig(\"Southern Hemisphere - Wind Speed (mph) vs. Latitude Linear Regression.png\")\n",
    "print(\"Negative Correlation between wind speed and latitude in Southern Hemisphere\")"
   ]
  },
  {
   "cell_type": "code",
   "execution_count": null,
   "metadata": {},
   "outputs": [],
   "source": []
  },
  {
   "cell_type": "code",
   "execution_count": null,
   "metadata": {},
   "outputs": [],
   "source": []
  }
 ],
 "metadata": {
  "anaconda-cloud": {},
  "kernel_info": {
   "name": "python3"
  },
  "kernelspec": {
   "display_name": "Python 3",
   "language": "python",
   "name": "python3"
  },
  "language_info": {
   "codemirror_mode": {
    "name": "ipython",
    "version": 3
   },
   "file_extension": ".py",
   "mimetype": "text/x-python",
   "name": "python",
   "nbconvert_exporter": "python",
   "pygments_lexer": "ipython3",
   "version": "3.7.6"
  },
  "latex_envs": {
   "LaTeX_envs_menu_present": true,
   "autoclose": false,
   "autocomplete": true,
   "bibliofile": "biblio.bib",
   "cite_by": "apalike",
   "current_citInitial": 1,
   "eqLabelWithNumbers": true,
   "eqNumInitial": 1,
   "hotkeys": {
    "equation": "Ctrl-E",
    "itemize": "Ctrl-I"
   },
   "labels_anchors": false,
   "latex_user_defs": false,
   "report_style_numbering": false,
   "user_envs_cfg": false
  },
  "nteract": {
   "version": "0.12.3"
  }
 },
 "nbformat": 4,
 "nbformat_minor": 2
}
